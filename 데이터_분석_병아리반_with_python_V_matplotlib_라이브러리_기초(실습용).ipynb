{
  "nbformat": 4,
  "nbformat_minor": 0,
  "metadata": {
    "colab": {
      "provenance": [],
      "include_colab_link": true
    },
    "kernelspec": {
      "name": "python3",
      "display_name": "Python 3"
    },
    "language_info": {
      "name": "python"
    }
  },
  "cells": [
    {
      "cell_type": "markdown",
      "metadata": {
        "id": "view-in-github",
        "colab_type": "text"
      },
      "source": [
        "<a href=\"https://colab.research.google.com/github/bgchoy/Bayesian-Regression/blob/main/%EB%8D%B0%EC%9D%B4%ED%84%B0_%EB%B6%84%EC%84%9D_%EB%B3%91%EC%95%84%EB%A6%AC%EB%B0%98_with_python_V_matplotlib_%EB%9D%BC%EC%9D%B4%EB%B8%8C%EB%9F%AC%EB%A6%AC_%EA%B8%B0%EC%B4%88(%EC%8B%A4%EC%8A%B5%EC%9A%A9).ipynb\" target=\"_parent\"><img src=\"https://colab.research.google.com/assets/colab-badge.svg\" alt=\"Open In Colab\"/></a>"
      ]
    },
    {
      "cell_type": "markdown",
      "source": [
        "### 1. 기본 그래프 TOP 5!\n"
      ],
      "metadata": {
        "id": "l9Bsb9iyyFmo"
      }
    },
    {
      "cell_type": "markdown",
      "source": [
        "#### 1) 꺾은선 그래프(plot)  \n",
        "\n",
        "\n",
        "```\n",
        "plt.plot([x],y)\n",
        "```\n"
      ],
      "metadata": {
        "id": "MEC-XKL0ap29"
      }
    },
    {
      "cell_type": "code",
      "source": [
        "# 꺾은선 그래프 그려보기\n"
      ],
      "metadata": {
        "id": "7ZhmDZb2TWUo"
      },
      "execution_count": null,
      "outputs": []
    },
    {
      "cell_type": "markdown",
      "source": [
        "#### 2) 막대 그래프(bar, barh)  \n",
        "```\n",
        "plt.bar(x,y)\n",
        "```\n"
      ],
      "metadata": {
        "id": "ECeskR8BTn5m"
      }
    },
    {
      "cell_type": "code",
      "source": [
        "# 막대 그래프 그려보기\n",
        "\n",
        "plt.show()"
      ],
      "metadata": {
        "id": "M4nJHSGNTrre"
      },
      "execution_count": null,
      "outputs": []
    },
    {
      "cell_type": "code",
      "source": [
        "# 수평 막대 그래프 그려보기\n",
        "\n",
        "plt.show()"
      ],
      "metadata": {
        "id": "ZBd2YfIJUlJm"
      },
      "execution_count": null,
      "outputs": []
    },
    {
      "cell_type": "markdown",
      "source": [
        "#### 3) 히스토그램(hist)  \n",
        "```\n",
        "plt.hist(data[,bins = n])\n",
        "```\n"
      ],
      "metadata": {
        "id": "lr_92WufUp94"
      }
    },
    {
      "cell_type": "code",
      "source": [
        "# 히스토그램 그려보기\n",
        "data = [-10.2, -5.2, -8.0, -5.6, -7.8, -5.9, -5.9, -5.0, -1.2, -3.4, -10.3, -11.3, -8.9, -10.1, -5.3, -7.2, -9.2, -9.9, -7.7, -9.8, -8.7, -5.0, -0.6, 1.3, 1.9, -1.9, -4.6, -5.9, -7.2, -8.0, -6.8]\n",
        "\n",
        "plt.show()"
      ],
      "metadata": {
        "id": "RqiabUMQVaxh"
      },
      "execution_count": null,
      "outputs": []
    },
    {
      "cell_type": "markdown",
      "source": [
        "#### 4) 박스플랏(boxplot)  \n",
        "```\n",
        "plt.boxplot(data)\n",
        "```"
      ],
      "metadata": {
        "id": "JXs70fB2SKin"
      }
    },
    {
      "cell_type": "code",
      "source": [
        "# 박스플랏 그려보기\n",
        "data = [-10.2, -5.2, -8.0, -5.6, -7.8, -5.9, -5.9, -5.0, -1.2, -3.4, -10.3, -11.3, -8.9, -10.1, -5.3, -7.2, -9.2, -9.9, -7.7, -9.8, -8.7, -5.0, -0.6, 1.3, 1.9, -1.9, -4.6, -5.9, -7.2, -8.0, -6.8]\n",
        "\n",
        "plt.show()"
      ],
      "metadata": {
        "id": "3IHrHCTXDEZG"
      },
      "execution_count": null,
      "outputs": []
    },
    {
      "cell_type": "markdown",
      "source": [
        "#### 5) 산점도(scatter)  \n",
        "```\n",
        "plt.scatter(x, y)\n",
        "```"
      ],
      "metadata": {
        "id": "VWGj_ycnaVpW"
      }
    },
    {
      "cell_type": "code",
      "source": [
        "# 산점도 그려보기\n",
        "high = [2.3, 3.0, 2.5, 1.0, 1.9, 3.3, 4.5, 3.7, 5.6, 4.4, 0.3, -3.4, -3.1, 1.3, 1.8, 2.4, 0.1, -0.7, -2.7, 0.9, 4.6, 7.1, 6.7, 8.4, 4.5, 6.8, 4.0, 2.1, 0.9, 2.4, 4.8]\n",
        "low = [-10.2, -5.2, -8.0, -5.6, -7.8, -5.9, -5.9, -5.0, -1.2, -3.4, -10.3, -11.3, -8.9, -10.1, -5.3, -7.2, -9.2, -9.9, -7.7, -9.8, -8.7, -5.0, -0.6, 1.3, 1.9, -1.9, -4.6, -5.9, -7.2, -8.0, -6.8]\n",
        "\n",
        "plt.show()"
      ],
      "metadata": {
        "id": "vtIoo_ltEWGH"
      },
      "execution_count": null,
      "outputs": []
    }
  ]
}